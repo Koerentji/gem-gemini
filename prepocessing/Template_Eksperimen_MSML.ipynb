{
  "cells": [
    {
      "cell_type": "markdown",
      "metadata": {
        "id": "kZLRMFl0JyyQ"
      },
      "source": [
        "# **1. Perkenalan Dataset**\n"
      ]
    },
    {
      "cell_type": "markdown",
      "metadata": {
        "id": "hssSDn-5n3HR"
      },
      "source": [
        "Tahap pertama, Anda harus mencari dan menggunakan dataset dengan ketentuan sebagai berikut:\n",
        "\n",
        "1. **Sumber Dataset**:  \n",
        "   Dataset dapat diperoleh dari berbagai sumber, seperti public repositories (*Kaggle*, *UCI ML Repository*, *Open Data*) atau data primer yang Anda kumpulkan sendiri.\n"
      ]
    },
    {
      "cell_type": "markdown",
      "metadata": {
        "id": "fKADPWcFKlj3"
      },
      "source": [
        "# **2. Import Library**"
      ]
    },
    {
      "cell_type": "markdown",
      "metadata": {
        "id": "LgA3ERnVn84N"
      },
      "source": [
        "Pada tahap ini, Anda perlu mengimpor beberapa pustaka (library) Python yang dibutuhkan untuk analisis data dan pembangunan model machine learning atau deep learning."
      ]
    },
    {
      "cell_type": "code",
      "execution_count": 49,
      "metadata": {
        "id": "HeDlNK1vxjdP"
      },
      "outputs": [],
      "source": [
        "!pip install -q kaggle"
      ]
    },
    {
      "cell_type": "code",
      "execution_count": 50,
      "metadata": {},
      "outputs": [
        {
          "name": "stdout",
          "output_type": "stream",
          "text": [
            "Requirement already satisfied: pandas in c:\\users\\krisn\\submission_membangun_sistem_machine_learning\\.venv\\lib\\site-packages (2.2.3)\n",
            "Requirement already satisfied: numpy>=1.26.0 in c:\\users\\krisn\\submission_membangun_sistem_machine_learning\\.venv\\lib\\site-packages (from pandas) (2.2.5)\n",
            "Requirement already satisfied: python-dateutil>=2.8.2 in c:\\users\\krisn\\submission_membangun_sistem_machine_learning\\.venv\\lib\\site-packages (from pandas) (2.9.0.post0)\n",
            "Requirement already satisfied: pytz>=2020.1 in c:\\users\\krisn\\submission_membangun_sistem_machine_learning\\.venv\\lib\\site-packages (from pandas) (2025.2)\n",
            "Requirement already satisfied: tzdata>=2022.7 in c:\\users\\krisn\\submission_membangun_sistem_machine_learning\\.venv\\lib\\site-packages (from pandas) (2025.2)\n",
            "Requirement already satisfied: six>=1.5 in c:\\users\\krisn\\submission_membangun_sistem_machine_learning\\.venv\\lib\\site-packages (from python-dateutil>=2.8.2->pandas) (1.17.0)\n"
          ]
        }
      ],
      "source": [
        "!pip install pandas"
      ]
    },
    {
      "cell_type": "code",
      "execution_count": 51,
      "metadata": {},
      "outputs": [
        {
          "name": "stdout",
          "output_type": "stream",
          "text": [
            "Requirement already satisfied: matplotlib in c:\\users\\krisn\\submission_membangun_sistem_machine_learning\\.venv\\lib\\site-packages (3.10.3)\n",
            "Requirement already satisfied: contourpy>=1.0.1 in c:\\users\\krisn\\submission_membangun_sistem_machine_learning\\.venv\\lib\\site-packages (from matplotlib) (1.3.2)\n",
            "Requirement already satisfied: cycler>=0.10 in c:\\users\\krisn\\submission_membangun_sistem_machine_learning\\.venv\\lib\\site-packages (from matplotlib) (0.12.1)\n",
            "Requirement already satisfied: fonttools>=4.22.0 in c:\\users\\krisn\\submission_membangun_sistem_machine_learning\\.venv\\lib\\site-packages (from matplotlib) (4.58.0)\n",
            "Requirement already satisfied: kiwisolver>=1.3.1 in c:\\users\\krisn\\submission_membangun_sistem_machine_learning\\.venv\\lib\\site-packages (from matplotlib) (1.4.8)\n",
            "Requirement already satisfied: numpy>=1.23 in c:\\users\\krisn\\submission_membangun_sistem_machine_learning\\.venv\\lib\\site-packages (from matplotlib) (2.2.5)\n",
            "Requirement already satisfied: packaging>=20.0 in c:\\users\\krisn\\submission_membangun_sistem_machine_learning\\.venv\\lib\\site-packages (from matplotlib) (24.2)\n",
            "Requirement already satisfied: pillow>=8 in c:\\users\\krisn\\submission_membangun_sistem_machine_learning\\.venv\\lib\\site-packages (from matplotlib) (11.2.1)\n",
            "Requirement already satisfied: pyparsing>=2.3.1 in c:\\users\\krisn\\submission_membangun_sistem_machine_learning\\.venv\\lib\\site-packages (from matplotlib) (3.2.3)\n",
            "Requirement already satisfied: python-dateutil>=2.7 in c:\\users\\krisn\\submission_membangun_sistem_machine_learning\\.venv\\lib\\site-packages (from matplotlib) (2.9.0.post0)\n",
            "Requirement already satisfied: six>=1.5 in c:\\users\\krisn\\submission_membangun_sistem_machine_learning\\.venv\\lib\\site-packages (from python-dateutil>=2.7->matplotlib) (1.17.0)\n"
          ]
        }
      ],
      "source": [
        "!pip install matplotlib"
      ]
    },
    {
      "cell_type": "code",
      "execution_count": 52,
      "metadata": {},
      "outputs": [
        {
          "name": "stdout",
          "output_type": "stream",
          "text": [
            "Requirement already satisfied: numpy in c:\\users\\krisn\\submission_membangun_sistem_machine_learning\\.venv\\lib\\site-packages (2.2.5)\n",
            "Requirement already satisfied: seaborn in c:\\users\\krisn\\submission_membangun_sistem_machine_learning\\.venv\\lib\\site-packages (0.13.2)\n",
            "Requirement already satisfied: numpy!=1.24.0,>=1.20 in c:\\users\\krisn\\submission_membangun_sistem_machine_learning\\.venv\\lib\\site-packages (from seaborn) (2.2.5)\n",
            "Requirement already satisfied: pandas>=1.2 in c:\\users\\krisn\\submission_membangun_sistem_machine_learning\\.venv\\lib\\site-packages (from seaborn) (2.2.3)\n",
            "Requirement already satisfied: matplotlib!=3.6.1,>=3.4 in c:\\users\\krisn\\submission_membangun_sistem_machine_learning\\.venv\\lib\\site-packages (from seaborn) (3.10.3)\n",
            "Requirement already satisfied: contourpy>=1.0.1 in c:\\users\\krisn\\submission_membangun_sistem_machine_learning\\.venv\\lib\\site-packages (from matplotlib!=3.6.1,>=3.4->seaborn) (1.3.2)\n",
            "Requirement already satisfied: cycler>=0.10 in c:\\users\\krisn\\submission_membangun_sistem_machine_learning\\.venv\\lib\\site-packages (from matplotlib!=3.6.1,>=3.4->seaborn) (0.12.1)\n",
            "Requirement already satisfied: fonttools>=4.22.0 in c:\\users\\krisn\\submission_membangun_sistem_machine_learning\\.venv\\lib\\site-packages (from matplotlib!=3.6.1,>=3.4->seaborn) (4.58.0)\n",
            "Requirement already satisfied: kiwisolver>=1.3.1 in c:\\users\\krisn\\submission_membangun_sistem_machine_learning\\.venv\\lib\\site-packages (from matplotlib!=3.6.1,>=3.4->seaborn) (1.4.8)\n",
            "Requirement already satisfied: packaging>=20.0 in c:\\users\\krisn\\submission_membangun_sistem_machine_learning\\.venv\\lib\\site-packages (from matplotlib!=3.6.1,>=3.4->seaborn) (24.2)\n",
            "Requirement already satisfied: pillow>=8 in c:\\users\\krisn\\submission_membangun_sistem_machine_learning\\.venv\\lib\\site-packages (from matplotlib!=3.6.1,>=3.4->seaborn) (11.2.1)\n",
            "Requirement already satisfied: pyparsing>=2.3.1 in c:\\users\\krisn\\submission_membangun_sistem_machine_learning\\.venv\\lib\\site-packages (from matplotlib!=3.6.1,>=3.4->seaborn) (3.2.3)\n",
            "Requirement already satisfied: python-dateutil>=2.7 in c:\\users\\krisn\\submission_membangun_sistem_machine_learning\\.venv\\lib\\site-packages (from matplotlib!=3.6.1,>=3.4->seaborn) (2.9.0.post0)\n",
            "Requirement already satisfied: pytz>=2020.1 in c:\\users\\krisn\\submission_membangun_sistem_machine_learning\\.venv\\lib\\site-packages (from pandas>=1.2->seaborn) (2025.2)\n",
            "Requirement already satisfied: tzdata>=2022.7 in c:\\users\\krisn\\submission_membangun_sistem_machine_learning\\.venv\\lib\\site-packages (from pandas>=1.2->seaborn) (2025.2)\n",
            "Requirement already satisfied: six>=1.5 in c:\\users\\krisn\\submission_membangun_sistem_machine_learning\\.venv\\lib\\site-packages (from python-dateutil>=2.7->matplotlib!=3.6.1,>=3.4->seaborn) (1.17.0)\n"
          ]
        }
      ],
      "source": [
        "!pip install numpy\n",
        "!pip install seaborn\n",
        "\n"
      ]
    },
    {
      "cell_type": "code",
      "execution_count": 53,
      "metadata": {},
      "outputs": [
        {
          "name": "stdout",
          "output_type": "stream",
          "text": [
            "Requirement already satisfied: mlflow in c:\\users\\krisn\\submission_membangun_sistem_machine_learning\\.venv\\lib\\site-packages (2.22.0)\n",
            "Requirement already satisfied: mlflow-skinny==2.22.0 in c:\\users\\krisn\\submission_membangun_sistem_machine_learning\\.venv\\lib\\site-packages (from mlflow) (2.22.0)\n",
            "Requirement already satisfied: Flask<4 in c:\\users\\krisn\\submission_membangun_sistem_machine_learning\\.venv\\lib\\site-packages (from mlflow) (3.1.1)\n",
            "Requirement already satisfied: Jinja2<4,>=3.0 in c:\\users\\krisn\\submission_membangun_sistem_machine_learning\\.venv\\lib\\site-packages (from mlflow) (3.1.6)\n",
            "Requirement already satisfied: alembic!=1.10.0,<2 in c:\\users\\krisn\\submission_membangun_sistem_machine_learning\\.venv\\lib\\site-packages (from mlflow) (1.15.2)\n",
            "Requirement already satisfied: docker<8,>=4.0.0 in c:\\users\\krisn\\submission_membangun_sistem_machine_learning\\.venv\\lib\\site-packages (from mlflow) (7.1.0)\n",
            "Requirement already satisfied: graphene<4 in c:\\users\\krisn\\submission_membangun_sistem_machine_learning\\.venv\\lib\\site-packages (from mlflow) (3.4.3)\n",
            "Requirement already satisfied: markdown<4,>=3.3 in c:\\users\\krisn\\submission_membangun_sistem_machine_learning\\.venv\\lib\\site-packages (from mlflow) (3.8)\n",
            "Requirement already satisfied: matplotlib<4 in c:\\users\\krisn\\submission_membangun_sistem_machine_learning\\.venv\\lib\\site-packages (from mlflow) (3.10.3)\n",
            "Requirement already satisfied: numpy<3 in c:\\users\\krisn\\submission_membangun_sistem_machine_learning\\.venv\\lib\\site-packages (from mlflow) (2.2.5)\n",
            "Requirement already satisfied: pandas<3 in c:\\users\\krisn\\submission_membangun_sistem_machine_learning\\.venv\\lib\\site-packages (from mlflow) (2.2.3)\n",
            "Requirement already satisfied: pyarrow<20,>=4.0.0 in c:\\users\\krisn\\submission_membangun_sistem_machine_learning\\.venv\\lib\\site-packages (from mlflow) (19.0.1)\n",
            "Requirement already satisfied: scikit-learn<2 in c:\\users\\krisn\\submission_membangun_sistem_machine_learning\\.venv\\lib\\site-packages (from mlflow) (1.6.1)\n",
            "Requirement already satisfied: scipy<2 in c:\\users\\krisn\\submission_membangun_sistem_machine_learning\\.venv\\lib\\site-packages (from mlflow) (1.15.3)\n",
            "Requirement already satisfied: sqlalchemy<3,>=1.4.0 in c:\\users\\krisn\\submission_membangun_sistem_machine_learning\\.venv\\lib\\site-packages (from mlflow) (2.0.40)\n",
            "Requirement already satisfied: waitress<4 in c:\\users\\krisn\\submission_membangun_sistem_machine_learning\\.venv\\lib\\site-packages (from mlflow) (3.0.2)\n",
            "Requirement already satisfied: cachetools<6,>=5.0.0 in c:\\users\\krisn\\submission_membangun_sistem_machine_learning\\.venv\\lib\\site-packages (from mlflow-skinny==2.22.0->mlflow) (5.5.2)\n",
            "Requirement already satisfied: click<9,>=7.0 in c:\\users\\krisn\\submission_membangun_sistem_machine_learning\\.venv\\lib\\site-packages (from mlflow-skinny==2.22.0->mlflow) (8.2.0)\n",
            "Requirement already satisfied: cloudpickle<4 in c:\\users\\krisn\\submission_membangun_sistem_machine_learning\\.venv\\lib\\site-packages (from mlflow-skinny==2.22.0->mlflow) (3.1.1)\n",
            "Requirement already satisfied: databricks-sdk<1,>=0.20.0 in c:\\users\\krisn\\submission_membangun_sistem_machine_learning\\.venv\\lib\\site-packages (from mlflow-skinny==2.22.0->mlflow) (0.53.0)\n",
            "Requirement already satisfied: fastapi<1 in c:\\users\\krisn\\submission_membangun_sistem_machine_learning\\.venv\\lib\\site-packages (from mlflow-skinny==2.22.0->mlflow) (0.115.12)\n",
            "Requirement already satisfied: gitpython<4,>=3.1.9 in c:\\users\\krisn\\submission_membangun_sistem_machine_learning\\.venv\\lib\\site-packages (from mlflow-skinny==2.22.0->mlflow) (3.1.44)\n",
            "Requirement already satisfied: importlib_metadata!=4.7.0,<9,>=3.7.0 in c:\\users\\krisn\\submission_membangun_sistem_machine_learning\\.venv\\lib\\site-packages (from mlflow-skinny==2.22.0->mlflow) (8.6.1)\n",
            "Requirement already satisfied: opentelemetry-api<3,>=1.9.0 in c:\\users\\krisn\\submission_membangun_sistem_machine_learning\\.venv\\lib\\site-packages (from mlflow-skinny==2.22.0->mlflow) (1.33.0)\n",
            "Requirement already satisfied: opentelemetry-sdk<3,>=1.9.0 in c:\\users\\krisn\\submission_membangun_sistem_machine_learning\\.venv\\lib\\site-packages (from mlflow-skinny==2.22.0->mlflow) (1.33.0)\n",
            "Requirement already satisfied: packaging<25 in c:\\users\\krisn\\submission_membangun_sistem_machine_learning\\.venv\\lib\\site-packages (from mlflow-skinny==2.22.0->mlflow) (24.2)\n",
            "Requirement already satisfied: protobuf<7,>=3.12.0 in c:\\users\\krisn\\submission_membangun_sistem_machine_learning\\.venv\\lib\\site-packages (from mlflow-skinny==2.22.0->mlflow) (6.30.2)\n",
            "Requirement already satisfied: pydantic<3,>=1.10.8 in c:\\users\\krisn\\submission_membangun_sistem_machine_learning\\.venv\\lib\\site-packages (from mlflow-skinny==2.22.0->mlflow) (2.11.4)\n",
            "Requirement already satisfied: pyyaml<7,>=5.1 in c:\\users\\krisn\\submission_membangun_sistem_machine_learning\\.venv\\lib\\site-packages (from mlflow-skinny==2.22.0->mlflow) (6.0.2)\n",
            "Requirement already satisfied: requests<3,>=2.17.3 in c:\\users\\krisn\\submission_membangun_sistem_machine_learning\\.venv\\lib\\site-packages (from mlflow-skinny==2.22.0->mlflow) (2.32.3)\n",
            "Requirement already satisfied: sqlparse<1,>=0.4.0 in c:\\users\\krisn\\submission_membangun_sistem_machine_learning\\.venv\\lib\\site-packages (from mlflow-skinny==2.22.0->mlflow) (0.5.3)\n",
            "Requirement already satisfied: typing-extensions<5,>=4.0.0 in c:\\users\\krisn\\submission_membangun_sistem_machine_learning\\.venv\\lib\\site-packages (from mlflow-skinny==2.22.0->mlflow) (4.13.2)\n",
            "Requirement already satisfied: uvicorn<1 in c:\\users\\krisn\\submission_membangun_sistem_machine_learning\\.venv\\lib\\site-packages (from mlflow-skinny==2.22.0->mlflow) (0.34.2)\n",
            "Requirement already satisfied: Mako in c:\\users\\krisn\\submission_membangun_sistem_machine_learning\\.venv\\lib\\site-packages (from alembic!=1.10.0,<2->mlflow) (1.3.10)\n",
            "Requirement already satisfied: colorama in c:\\users\\krisn\\submission_membangun_sistem_machine_learning\\.venv\\lib\\site-packages (from click<9,>=7.0->mlflow-skinny==2.22.0->mlflow) (0.4.6)\n",
            "Requirement already satisfied: google-auth~=2.0 in c:\\users\\krisn\\submission_membangun_sistem_machine_learning\\.venv\\lib\\site-packages (from databricks-sdk<1,>=0.20.0->mlflow-skinny==2.22.0->mlflow) (2.40.1)\n",
            "Requirement already satisfied: pywin32>=304 in c:\\users\\krisn\\submission_membangun_sistem_machine_learning\\.venv\\lib\\site-packages (from docker<8,>=4.0.0->mlflow) (310)\n",
            "Requirement already satisfied: urllib3>=1.26.0 in c:\\users\\krisn\\submission_membangun_sistem_machine_learning\\.venv\\lib\\site-packages (from docker<8,>=4.0.0->mlflow) (2.4.0)\n",
            "Requirement already satisfied: starlette<0.47.0,>=0.40.0 in c:\\users\\krisn\\submission_membangun_sistem_machine_learning\\.venv\\lib\\site-packages (from fastapi<1->mlflow-skinny==2.22.0->mlflow) (0.46.2)\n",
            "Requirement already satisfied: blinker>=1.9.0 in c:\\users\\krisn\\submission_membangun_sistem_machine_learning\\.venv\\lib\\site-packages (from Flask<4->mlflow) (1.9.0)\n",
            "Requirement already satisfied: itsdangerous>=2.2.0 in c:\\users\\krisn\\submission_membangun_sistem_machine_learning\\.venv\\lib\\site-packages (from Flask<4->mlflow) (2.2.0)\n",
            "Requirement already satisfied: markupsafe>=2.1.1 in c:\\users\\krisn\\submission_membangun_sistem_machine_learning\\.venv\\lib\\site-packages (from Flask<4->mlflow) (3.0.2)\n",
            "Requirement already satisfied: werkzeug>=3.1.0 in c:\\users\\krisn\\submission_membangun_sistem_machine_learning\\.venv\\lib\\site-packages (from Flask<4->mlflow) (3.1.3)\n",
            "Requirement already satisfied: gitdb<5,>=4.0.1 in c:\\users\\krisn\\submission_membangun_sistem_machine_learning\\.venv\\lib\\site-packages (from gitpython<4,>=3.1.9->mlflow-skinny==2.22.0->mlflow) (4.0.12)\n",
            "Requirement already satisfied: smmap<6,>=3.0.1 in c:\\users\\krisn\\submission_membangun_sistem_machine_learning\\.venv\\lib\\site-packages (from gitdb<5,>=4.0.1->gitpython<4,>=3.1.9->mlflow-skinny==2.22.0->mlflow) (5.0.2)\n",
            "Requirement already satisfied: pyasn1-modules>=0.2.1 in c:\\users\\krisn\\submission_membangun_sistem_machine_learning\\.venv\\lib\\site-packages (from google-auth~=2.0->databricks-sdk<1,>=0.20.0->mlflow-skinny==2.22.0->mlflow) (0.4.2)\n",
            "Requirement already satisfied: rsa<5,>=3.1.4 in c:\\users\\krisn\\submission_membangun_sistem_machine_learning\\.venv\\lib\\site-packages (from google-auth~=2.0->databricks-sdk<1,>=0.20.0->mlflow-skinny==2.22.0->mlflow) (4.9.1)\n",
            "Requirement already satisfied: graphql-core<3.3,>=3.1 in c:\\users\\krisn\\submission_membangun_sistem_machine_learning\\.venv\\lib\\site-packages (from graphene<4->mlflow) (3.2.6)\n",
            "Requirement already satisfied: graphql-relay<3.3,>=3.1 in c:\\users\\krisn\\submission_membangun_sistem_machine_learning\\.venv\\lib\\site-packages (from graphene<4->mlflow) (3.2.0)\n",
            "Requirement already satisfied: python-dateutil<3,>=2.7.0 in c:\\users\\krisn\\submission_membangun_sistem_machine_learning\\.venv\\lib\\site-packages (from graphene<4->mlflow) (2.9.0.post0)\n",
            "Requirement already satisfied: zipp>=3.20 in c:\\users\\krisn\\submission_membangun_sistem_machine_learning\\.venv\\lib\\site-packages (from importlib_metadata!=4.7.0,<9,>=3.7.0->mlflow-skinny==2.22.0->mlflow) (3.21.0)\n",
            "Requirement already satisfied: contourpy>=1.0.1 in c:\\users\\krisn\\submission_membangun_sistem_machine_learning\\.venv\\lib\\site-packages (from matplotlib<4->mlflow) (1.3.2)\n",
            "Requirement already satisfied: cycler>=0.10 in c:\\users\\krisn\\submission_membangun_sistem_machine_learning\\.venv\\lib\\site-packages (from matplotlib<4->mlflow) (0.12.1)\n",
            "Requirement already satisfied: fonttools>=4.22.0 in c:\\users\\krisn\\submission_membangun_sistem_machine_learning\\.venv\\lib\\site-packages (from matplotlib<4->mlflow) (4.58.0)\n",
            "Requirement already satisfied: kiwisolver>=1.3.1 in c:\\users\\krisn\\submission_membangun_sistem_machine_learning\\.venv\\lib\\site-packages (from matplotlib<4->mlflow) (1.4.8)\n",
            "Requirement already satisfied: pillow>=8 in c:\\users\\krisn\\submission_membangun_sistem_machine_learning\\.venv\\lib\\site-packages (from matplotlib<4->mlflow) (11.2.1)\n",
            "Requirement already satisfied: pyparsing>=2.3.1 in c:\\users\\krisn\\submission_membangun_sistem_machine_learning\\.venv\\lib\\site-packages (from matplotlib<4->mlflow) (3.2.3)\n",
            "Requirement already satisfied: deprecated>=1.2.6 in c:\\users\\krisn\\submission_membangun_sistem_machine_learning\\.venv\\lib\\site-packages (from opentelemetry-api<3,>=1.9.0->mlflow-skinny==2.22.0->mlflow) (1.2.18)\n",
            "Requirement already satisfied: opentelemetry-semantic-conventions==0.54b0 in c:\\users\\krisn\\submission_membangun_sistem_machine_learning\\.venv\\lib\\site-packages (from opentelemetry-sdk<3,>=1.9.0->mlflow-skinny==2.22.0->mlflow) (0.54b0)\n",
            "Requirement already satisfied: pytz>=2020.1 in c:\\users\\krisn\\submission_membangun_sistem_machine_learning\\.venv\\lib\\site-packages (from pandas<3->mlflow) (2025.2)\n",
            "Requirement already satisfied: tzdata>=2022.7 in c:\\users\\krisn\\submission_membangun_sistem_machine_learning\\.venv\\lib\\site-packages (from pandas<3->mlflow) (2025.2)\n",
            "Requirement already satisfied: annotated-types>=0.6.0 in c:\\users\\krisn\\submission_membangun_sistem_machine_learning\\.venv\\lib\\site-packages (from pydantic<3,>=1.10.8->mlflow-skinny==2.22.0->mlflow) (0.7.0)\n",
            "Requirement already satisfied: pydantic-core==2.33.2 in c:\\users\\krisn\\submission_membangun_sistem_machine_learning\\.venv\\lib\\site-packages (from pydantic<3,>=1.10.8->mlflow-skinny==2.22.0->mlflow) (2.33.2)\n",
            "Requirement already satisfied: typing-inspection>=0.4.0 in c:\\users\\krisn\\submission_membangun_sistem_machine_learning\\.venv\\lib\\site-packages (from pydantic<3,>=1.10.8->mlflow-skinny==2.22.0->mlflow) (0.4.0)\n",
            "Requirement already satisfied: six>=1.5 in c:\\users\\krisn\\submission_membangun_sistem_machine_learning\\.venv\\lib\\site-packages (from python-dateutil<3,>=2.7.0->graphene<4->mlflow) (1.17.0)\n",
            "Requirement already satisfied: charset-normalizer<4,>=2 in c:\\users\\krisn\\submission_membangun_sistem_machine_learning\\.venv\\lib\\site-packages (from requests<3,>=2.17.3->mlflow-skinny==2.22.0->mlflow) (3.4.2)\n",
            "Requirement already satisfied: idna<4,>=2.5 in c:\\users\\krisn\\submission_membangun_sistem_machine_learning\\.venv\\lib\\site-packages (from requests<3,>=2.17.3->mlflow-skinny==2.22.0->mlflow) (3.10)\n",
            "Requirement already satisfied: certifi>=2017.4.17 in c:\\users\\krisn\\submission_membangun_sistem_machine_learning\\.venv\\lib\\site-packages (from requests<3,>=2.17.3->mlflow-skinny==2.22.0->mlflow) (2025.4.26)\n",
            "Requirement already satisfied: pyasn1>=0.1.3 in c:\\users\\krisn\\submission_membangun_sistem_machine_learning\\.venv\\lib\\site-packages (from rsa<5,>=3.1.4->google-auth~=2.0->databricks-sdk<1,>=0.20.0->mlflow-skinny==2.22.0->mlflow) (0.6.1)\n",
            "Requirement already satisfied: joblib>=1.2.0 in c:\\users\\krisn\\submission_membangun_sistem_machine_learning\\.venv\\lib\\site-packages (from scikit-learn<2->mlflow) (1.5.0)\n",
            "Requirement already satisfied: threadpoolctl>=3.1.0 in c:\\users\\krisn\\submission_membangun_sistem_machine_learning\\.venv\\lib\\site-packages (from scikit-learn<2->mlflow) (3.6.0)\n",
            "Requirement already satisfied: greenlet>=1 in c:\\users\\krisn\\submission_membangun_sistem_machine_learning\\.venv\\lib\\site-packages (from sqlalchemy<3,>=1.4.0->mlflow) (3.2.2)\n",
            "Requirement already satisfied: anyio<5,>=3.6.2 in c:\\users\\krisn\\submission_membangun_sistem_machine_learning\\.venv\\lib\\site-packages (from starlette<0.47.0,>=0.40.0->fastapi<1->mlflow-skinny==2.22.0->mlflow) (4.9.0)\n",
            "Requirement already satisfied: sniffio>=1.1 in c:\\users\\krisn\\submission_membangun_sistem_machine_learning\\.venv\\lib\\site-packages (from anyio<5,>=3.6.2->starlette<0.47.0,>=0.40.0->fastapi<1->mlflow-skinny==2.22.0->mlflow) (1.3.1)\n",
            "Requirement already satisfied: h11>=0.8 in c:\\users\\krisn\\submission_membangun_sistem_machine_learning\\.venv\\lib\\site-packages (from uvicorn<1->mlflow-skinny==2.22.0->mlflow) (0.16.0)\n",
            "Requirement already satisfied: wrapt<2,>=1.10 in c:\\users\\krisn\\submission_membangun_sistem_machine_learning\\.venv\\lib\\site-packages (from deprecated>=1.2.6->opentelemetry-api<3,>=1.9.0->mlflow-skinny==2.22.0->mlflow) (1.17.2)\n"
          ]
        }
      ],
      "source": [
        "!pip install mlflow"
      ]
    },
    {
      "cell_type": "code",
      "execution_count": 54,
      "metadata": {},
      "outputs": [
        {
          "name": "stdout",
          "output_type": "stream",
          "text": [
            "Requirement already satisfied: nltk in c:\\users\\krisn\\submission_membangun_sistem_machine_learning\\.venv\\lib\\site-packages (3.9.1)\n",
            "Requirement already satisfied: click in c:\\users\\krisn\\submission_membangun_sistem_machine_learning\\.venv\\lib\\site-packages (from nltk) (8.2.0)\n",
            "Requirement already satisfied: joblib in c:\\users\\krisn\\submission_membangun_sistem_machine_learning\\.venv\\lib\\site-packages (from nltk) (1.5.0)\n",
            "Requirement already satisfied: regex>=2021.8.3 in c:\\users\\krisn\\submission_membangun_sistem_machine_learning\\.venv\\lib\\site-packages (from nltk) (2024.11.6)\n",
            "Requirement already satisfied: tqdm in c:\\users\\krisn\\submission_membangun_sistem_machine_learning\\.venv\\lib\\site-packages (from nltk) (4.67.1)\n",
            "Requirement already satisfied: colorama in c:\\users\\krisn\\submission_membangun_sistem_machine_learning\\.venv\\lib\\site-packages (from click->nltk) (0.4.6)\n"
          ]
        }
      ],
      "source": [
        "!pip install nltk"
      ]
    },
    {
      "cell_type": "code",
      "execution_count": 55,
      "metadata": {
        "colab": {
          "base_uri": "https://localhost:8080/"
        },
        "id": "BlmvjLY9M4Yj",
        "outputId": "d93edc50-056c-41c0-d8c9-203112fefa55"
      },
      "outputs": [
        {
          "name": "stderr",
          "output_type": "stream",
          "text": [
            "[nltk_data] Downloading package stopwords to\n",
            "[nltk_data]     C:\\Users\\krisn\\AppData\\Roaming\\nltk_data...\n",
            "[nltk_data]   Package stopwords is already up-to-date!\n",
            "[nltk_data] Downloading package punkt to\n",
            "[nltk_data]     C:\\Users\\krisn\\AppData\\Roaming\\nltk_data...\n",
            "[nltk_data]   Package punkt is already up-to-date!\n"
          ]
        },
        {
          "data": {
            "text/plain": [
              "True"
            ]
          },
          "execution_count": 55,
          "metadata": {},
          "output_type": "execute_result"
        }
      ],
      "source": [
        "#Type your code here\n",
        "import pandas as pd\n",
        "import numpy as np\n",
        "import matplotlib.pyplot as plt\n",
        "import seaborn as sns\n",
        "import mlflow\n",
        "import mlflow.sklearn\n",
        "import re\n",
        "import string\n",
        "import nltk\n",
        "import os\n",
        "import warnings\n",
        "from sklearn.feature_extraction.text import TfidfVectorizer\n",
        "from sklearn.metrics.pairwise import cosine_similarity\n",
        "from sklearn.metrics import precision_score, recall_score, f1_score\n",
        "from sklearn.model_selection import train_test_split\n",
        "\n",
        "warnings.filterwarnings('ignore')\n",
        "nltk.download('stopwords')\n",
        "nltk.download('punkt')\n"
      ]
    },
    {
      "cell_type": "markdown",
      "metadata": {
        "id": "f3YIEnAFKrKL"
      },
      "source": [
        "# **3. Memuat Dataset**"
      ]
    },
    {
      "cell_type": "markdown",
      "metadata": {
        "id": "Ey3ItwTen_7E"
      },
      "source": [
        "Pada tahap ini, Anda perlu memuat dataset ke dalam notebook. Jika dataset dalam format CSV, Anda bisa menggunakan pustaka pandas untuk membacanya. Pastikan untuk mengecek beberapa baris awal dataset untuk memahami strukturnya dan memastikan data telah dimuat dengan benar.\n",
        "\n",
        "Jika dataset berada di Google Drive, pastikan Anda menghubungkan Google Drive ke Colab terlebih dahulu. Setelah dataset berhasil dimuat, langkah berikutnya adalah memeriksa kesesuaian data dan siap untuk dianalisis lebih lanjut.\n",
        "\n",
        "Jika dataset berupa unstructured data, silakan sesuaikan dengan format seperti kelas Machine Learning Pengembangan atau Machine Learning Terapan"
      ]
    },
    {
      "cell_type": "code",
      "execution_count": 56,
      "metadata": {
        "colab": {
          "base_uri": "https://localhost:8080/",
          "height": 90
        },
        "id": "GHCGNTyrM5fS",
        "outputId": "3fc3dcd2-d6d8-4ebf-bf97-58280f1bc5ac"
      },
      "outputs": [],
      "source": [
        "#Type your code here\n",
        "#from google.colab import files\n",
        "#files.upload()"
      ]
    },
    {
      "cell_type": "code",
      "execution_count": 57,
      "metadata": {
        "colab": {
          "base_uri": "https://localhost:8080/"
        },
        "id": "St0ryQ7wxpw3",
        "outputId": "44c497bf-dcbd-40ec-aedd-87265518eb97"
      },
      "outputs": [],
      "source": [
        "#!mkdir -p ~/.kaggle\n",
        "#!cp kaggle.json ~/.kaggle/\n",
        "#!chmod 600 ~/.kaggle/kaggle.json\n",
        "#!ls ~/.kaggle"
      ]
    },
    {
      "cell_type": "code",
      "execution_count": 58,
      "metadata": {
        "colab": {
          "base_uri": "https://localhost:8080/"
        },
        "id": "miA99MuExsWA",
        "outputId": "a7245916-a1c3-4ddd-9984-de013d93c93d"
      },
      "outputs": [],
      "source": [
        "#!kaggle datasets download -d ivankmk/thousand-ml-jobs-in-usa\n"
      ]
    },
    {
      "cell_type": "code",
      "execution_count": 59,
      "metadata": {
        "colab": {
          "base_uri": "https://localhost:8080/"
        },
        "id": "tG_HThgbxya0",
        "outputId": "556ca284-5da6-4717-8e8b-8d74e3aeec48"
      },
      "outputs": [],
      "source": [
        "# unzip\n",
        "#!mkdir thousand-ml-jobs-in-usa\n",
        "#!unzip -qq thousand-ml-jobs-in-usa -d ml-jobs\n",
        "#!ls ml-jobs"
      ]
    },
    {
      "cell_type": "code",
      "execution_count": 60,
      "metadata": {
        "colab": {
          "base_uri": "https://localhost:8080/"
        },
        "id": "oclxlXTSNiKa",
        "outputId": "01edaac6-6f2c-4da5-bae9-4327dea837f6"
      },
      "outputs": [],
      "source": [
        "#!ls ml-jobs/1000_ml_jobs_us.csv/"
      ]
    },
    {
      "cell_type": "code",
      "execution_count": 61,
      "metadata": {
        "colab": {
          "base_uri": "https://localhost:8080/",
          "height": 469
        },
        "id": "5zC9mXuAd7Cm",
        "outputId": "ca617ded-0c39-4305-968e-8d8c43c85f4a"
      },
      "outputs": [
        {
          "data": {
            "text/html": [
              "<div>\n",
              "<style scoped>\n",
              "    .dataframe tbody tr th:only-of-type {\n",
              "        vertical-align: middle;\n",
              "    }\n",
              "\n",
              "    .dataframe tbody tr th {\n",
              "        vertical-align: top;\n",
              "    }\n",
              "\n",
              "    .dataframe thead th {\n",
              "        text-align: right;\n",
              "    }\n",
              "</style>\n",
              "<table border=\"1\" class=\"dataframe\">\n",
              "  <thead>\n",
              "    <tr style=\"text-align: right;\">\n",
              "      <th></th>\n",
              "      <th>Unnamed: 0</th>\n",
              "      <th>job_posted_date</th>\n",
              "      <th>company_address_locality</th>\n",
              "      <th>company_address_region</th>\n",
              "      <th>company_name</th>\n",
              "      <th>company_website</th>\n",
              "      <th>company_description</th>\n",
              "      <th>job_description_text</th>\n",
              "      <th>seniority_level</th>\n",
              "      <th>job_title</th>\n",
              "    </tr>\n",
              "  </thead>\n",
              "  <tbody>\n",
              "    <tr>\n",
              "      <th>0</th>\n",
              "      <td>0</td>\n",
              "      <td>2024-10-31</td>\n",
              "      <td>Indianapolis</td>\n",
              "      <td>Indiana</td>\n",
              "      <td>Upper Hand</td>\n",
              "      <td>https://upperhand.com</td>\n",
              "      <td>Upper Hand is the leading provider of full-sui...</td>\n",
              "      <td>OverviewUpper Hand is embarking on an exciting...</td>\n",
              "      <td>Internship</td>\n",
              "      <td>Internship - Machine Learning Engineer &amp; Data ...</td>\n",
              "    </tr>\n",
              "    <tr>\n",
              "      <th>1</th>\n",
              "      <td>1</td>\n",
              "      <td>2025-03-14</td>\n",
              "      <td>San Francisco</td>\n",
              "      <td>California</td>\n",
              "      <td>Ikigai</td>\n",
              "      <td>https://www.ikigailabs.io</td>\n",
              "      <td>Built upon years of MIT research, Ikigai is a ...</td>\n",
              "      <td>Company DescriptionThe Ikigai platform unlocks...</td>\n",
              "      <td>Mid-Senior level</td>\n",
              "      <td>Machine Learning Engineer</td>\n",
              "    </tr>\n",
              "    <tr>\n",
              "      <th>2</th>\n",
              "      <td>2</td>\n",
              "      <td>2025-04-09</td>\n",
              "      <td>San Jose</td>\n",
              "      <td>CA</td>\n",
              "      <td>Adobe</td>\n",
              "      <td>http://www.adobe.com</td>\n",
              "      <td>Adobe is the global leader in digital media an...</td>\n",
              "      <td>Our CompanyChanging the world through digital ...</td>\n",
              "      <td>Entry level</td>\n",
              "      <td>Machine Learning Engineer</td>\n",
              "    </tr>\n",
              "    <tr>\n",
              "      <th>3</th>\n",
              "      <td>3</td>\n",
              "      <td>2025-03-22</td>\n",
              "      <td>Mountain View</td>\n",
              "      <td>California</td>\n",
              "      <td>Waymo</td>\n",
              "      <td>https://waymo.com/careers/</td>\n",
              "      <td>On the journey to be the world's most trusted ...</td>\n",
              "      <td>Waymo is an autonomous driving technology comp...</td>\n",
              "      <td>Entry level</td>\n",
              "      <td>Machine Learning Engineer, Training</td>\n",
              "    </tr>\n",
              "    <tr>\n",
              "      <th>4</th>\n",
              "      <td>4</td>\n",
              "      <td>2025-03-28</td>\n",
              "      <td>Boston</td>\n",
              "      <td>Massachusetts</td>\n",
              "      <td>HMH</td>\n",
              "      <td>http://www.hmhco.com</td>\n",
              "      <td>We are an adaptive learning company that empow...</td>\n",
              "      <td>Job Title: Machine Learning EngineerLocation: ...</td>\n",
              "      <td>Mid-Senior level</td>\n",
              "      <td>Machine Learning Engineer</td>\n",
              "    </tr>\n",
              "  </tbody>\n",
              "</table>\n",
              "</div>"
            ],
            "text/plain": [
              "   Unnamed: 0 job_posted_date company_address_locality company_address_region  \\\n",
              "0           0      2024-10-31             Indianapolis                Indiana   \n",
              "1           1      2025-03-14            San Francisco             California   \n",
              "2           2      2025-04-09                 San Jose                     CA   \n",
              "3           3      2025-03-22            Mountain View             California   \n",
              "4           4      2025-03-28                   Boston          Massachusetts   \n",
              "\n",
              "  company_name             company_website  \\\n",
              "0   Upper Hand       https://upperhand.com   \n",
              "1       Ikigai   https://www.ikigailabs.io   \n",
              "2        Adobe        http://www.adobe.com   \n",
              "3        Waymo  https://waymo.com/careers/   \n",
              "4          HMH        http://www.hmhco.com   \n",
              "\n",
              "                                 company_description  \\\n",
              "0  Upper Hand is the leading provider of full-sui...   \n",
              "1  Built upon years of MIT research, Ikigai is a ...   \n",
              "2  Adobe is the global leader in digital media an...   \n",
              "3  On the journey to be the world's most trusted ...   \n",
              "4  We are an adaptive learning company that empow...   \n",
              "\n",
              "                                job_description_text   seniority_level  \\\n",
              "0  OverviewUpper Hand is embarking on an exciting...        Internship   \n",
              "1  Company DescriptionThe Ikigai platform unlocks...  Mid-Senior level   \n",
              "2  Our CompanyChanging the world through digital ...       Entry level   \n",
              "3  Waymo is an autonomous driving technology comp...       Entry level   \n",
              "4  Job Title: Machine Learning EngineerLocation: ...  Mid-Senior level   \n",
              "\n",
              "                                           job_title  \n",
              "0  Internship - Machine Learning Engineer & Data ...  \n",
              "1                          Machine Learning Engineer  \n",
              "2                          Machine Learning Engineer  \n",
              "3                Machine Learning Engineer, Training  \n",
              "4                          Machine Learning Engineer  "
            ]
          },
          "execution_count": 61,
          "metadata": {},
          "output_type": "execute_result"
        }
      ],
      "source": [
        "data = pd.read_csv('../dataset/1000_ml_jobs_us.csv')\n",
        "data.head()"
      ]
    },
    {
      "cell_type": "code",
      "execution_count": 62,
      "metadata": {},
      "outputs": [],
      "source": [
        "\n",
        "array = np.asarray([[1, 2, 3], [4, 5, 6], [7, 8, 9]])\n",
        "dataset = mlflow.data.from_numpy(array, source=\"1000_ml_jobs_us.csv\")\n",
        " \n",
        "with mlflow.start_run():\n",
        "    mlflow.log_input(dataset, context=\"training\")"
      ]
    },
    {
      "cell_type": "markdown",
      "metadata": {
        "id": "bgZkbJLpK9UR"
      },
      "source": [
        "# **4. Exploratory Data Analysis (EDA)**\n",
        "\n",
        "Pada tahap ini, Anda akan melakukan **Exploratory Data Analysis (EDA)** untuk memahami karakteristik dataset.\n",
        "\n",
        "Tujuan dari EDA adalah untuk memperoleh wawasan awal yang mendalam mengenai data dan menentukan langkah selanjutnya dalam analisis atau pemodelan."
      ]
    },
    {
      "cell_type": "code",
      "execution_count": 63,
      "metadata": {
        "colab": {
          "base_uri": "https://localhost:8080/"
        },
        "id": "CB4bOFbzeGwu",
        "outputId": "e8211d8a-28d4-4dde-be1f-fe9f31a10f0f"
      },
      "outputs": [
        {
          "name": "stdout",
          "output_type": "stream",
          "text": [
            "Shape: (997, 10)\n",
            "\n",
            "Info:\n",
            "<class 'pandas.core.frame.DataFrame'>\n",
            "RangeIndex: 997 entries, 0 to 996\n",
            "Data columns (total 10 columns):\n",
            " #   Column                    Non-Null Count  Dtype \n",
            "---  ------                    --------------  ----- \n",
            " 0   Unnamed: 0                997 non-null    int64 \n",
            " 1   job_posted_date           997 non-null    object\n",
            " 2   company_address_locality  950 non-null    object\n",
            " 3   company_address_region    884 non-null    object\n",
            " 4   company_name              997 non-null    object\n",
            " 5   company_website           983 non-null    object\n",
            " 6   company_description       985 non-null    object\n",
            " 7   job_description_text      996 non-null    object\n",
            " 8   seniority_level           988 non-null    object\n",
            " 9   job_title                 997 non-null    object\n",
            "dtypes: int64(1), object(9)\n",
            "memory usage: 78.0+ KB\n"
          ]
        }
      ],
      "source": [
        "# Dimensi dan info umum\n",
        "print(\"Shape:\", data.shape)\n",
        "print(\"\\nInfo:\")\n",
        "data.info()\n",
        "\n",
        "\n"
      ]
    },
    {
      "cell_type": "code",
      "execution_count": 64,
      "metadata": {
        "colab": {
          "base_uri": "https://localhost:8080/",
          "height": 237
        },
        "id": "jkbrHXdgigZ1",
        "outputId": "277884b4-d466-47a9-9021-0ff839c44728"
      },
      "outputs": [
        {
          "data": {
            "text/html": [
              "<div>\n",
              "<style scoped>\n",
              "    .dataframe tbody tr th:only-of-type {\n",
              "        vertical-align: middle;\n",
              "    }\n",
              "\n",
              "    .dataframe tbody tr th {\n",
              "        vertical-align: top;\n",
              "    }\n",
              "\n",
              "    .dataframe thead th {\n",
              "        text-align: right;\n",
              "    }\n",
              "</style>\n",
              "<table border=\"1\" class=\"dataframe\">\n",
              "  <thead>\n",
              "    <tr style=\"text-align: right;\">\n",
              "      <th></th>\n",
              "      <th>Missing Values</th>\n",
              "      <th>Percentage</th>\n",
              "    </tr>\n",
              "  </thead>\n",
              "  <tbody>\n",
              "    <tr>\n",
              "      <th>company_address_region</th>\n",
              "      <td>113</td>\n",
              "      <td>11.334002</td>\n",
              "    </tr>\n",
              "    <tr>\n",
              "      <th>company_address_locality</th>\n",
              "      <td>47</td>\n",
              "      <td>4.714142</td>\n",
              "    </tr>\n",
              "    <tr>\n",
              "      <th>company_website</th>\n",
              "      <td>14</td>\n",
              "      <td>1.404213</td>\n",
              "    </tr>\n",
              "    <tr>\n",
              "      <th>company_description</th>\n",
              "      <td>12</td>\n",
              "      <td>1.203611</td>\n",
              "    </tr>\n",
              "    <tr>\n",
              "      <th>seniority_level</th>\n",
              "      <td>9</td>\n",
              "      <td>0.902708</td>\n",
              "    </tr>\n",
              "    <tr>\n",
              "      <th>job_description_text</th>\n",
              "      <td>1</td>\n",
              "      <td>0.100301</td>\n",
              "    </tr>\n",
              "  </tbody>\n",
              "</table>\n",
              "</div>"
            ],
            "text/plain": [
              "                          Missing Values  Percentage\n",
              "company_address_region               113   11.334002\n",
              "company_address_locality              47    4.714142\n",
              "company_website                       14    1.404213\n",
              "company_description                   12    1.203611\n",
              "seniority_level                        9    0.902708\n",
              "job_description_text                   1    0.100301"
            ]
          },
          "execution_count": 64,
          "metadata": {},
          "output_type": "execute_result"
        }
      ],
      "source": [
        "# Cek missing values\n",
        "missing_values = data.isnull().sum()\n",
        "missing_percent = (missing_values / len(data)) * 100\n",
        "missing_df = pd.DataFrame({'Missing Values': missing_values, 'Percentage': missing_percent})\n",
        "missing_df[missing_df['Missing Values'] > 0].sort_values(by='Percentage', ascending=False)\n"
      ]
    },
    {
      "cell_type": "code",
      "execution_count": 65,
      "metadata": {
        "colab": {
          "base_uri": "https://localhost:8080/"
        },
        "id": "DsWkuexQilxd",
        "outputId": "b8c73033-836f-4687-c7c3-61ce6610bbdb"
      },
      "outputs": [
        {
          "name": "stdout",
          "output_type": "stream",
          "text": [
            "Jumlah duplikat: 0\n"
          ]
        }
      ],
      "source": [
        "# Duplikat\n",
        "print(\"Jumlah duplikat:\", data.duplicated().sum())\n",
        "# Jika ingin menghapus:\n",
        "# data = data.drop_duplicates()\n"
      ]
    },
    {
      "cell_type": "code",
      "execution_count": 66,
      "metadata": {
        "colab": {
          "base_uri": "https://localhost:8080/",
          "height": 631
        },
        "id": "MF01k1WukDom",
        "outputId": "2a3233c5-c424-40cb-9d6f-a211e3b23298"
      },
      "outputs": [
        {
          "data": {
            "image/png": "[encoded data removed]",
            "text/plain": [
              "<Figure size 1200x500 with 1 Axes>"
            ]
          },
          "metadata": {},
          "output_type": "display_data"
        },
        {
          "name": "stdout",
          "output_type": "stream",
          "text": [
            "Jumlah unique job title: 450\n",
            "Job title terbanyak:\n",
            " job_title\n",
            "Machine Learning Engineer                                        243\n",
            "Data Scientist                                                    53\n",
            "Software Engineer, Machine Learning                               30\n",
            "Senior Machine Learning Engineer                                  22\n",
            "Software Engineer, Machine Learning (Multiple Levels) - Slack      9\n",
            "Name: count, dtype: int64\n"
          ]
        }
      ],
      "source": [
        "plt.figure(figsize=(12, 5))\n",
        "sns.countplot(data['job_title'], order=data['job_title'].value_counts().index[:10], palette='Set2')\n",
        "plt.title(\"Distribusi 10 Job Title Teratas\")\n",
        "plt.xlabel(\"Job Title\")\n",
        "plt.ylabel(\"Jumlah\")\n",
        "plt.xticks(rotation=45)\n",
        "plt.tight_layout()\n",
        "plt.show()\n",
        "\n",
        "print(\"Jumlah unique job title:\", data['job_title'].nunique())\n",
        "print(\"Job title terbanyak:\\n\", data['job_title'].value_counts().head())\n"
      ]
    },
    {
      "cell_type": "code",
      "execution_count": 67,
      "metadata": {
        "colab": {
          "base_uri": "https://localhost:8080/",
          "height": 632
        },
        "id": "f2bUiJlPkIRd",
        "outputId": "b5efbb24-7c79-4417-f1ff-2dbbf7d78f7d"
      },
      "outputs": [
        {
          "data": {
            "image/png": "[encoded data removed]",
            "text/plain": [
              "<Figure size 1200x500 with 1 Axes>"
            ]
          },
          "metadata": {},
          "output_type": "display_data"
        },
        {
          "name": "stdout",
          "output_type": "stream",
          "text": [
            "Jumlah unique company_name: 488\n",
            "Perusahaan terbanyak:\n",
            " company_name\n",
            "TikTok       88\n",
            "Meta         39\n",
            "Snap Inc.    18\n",
            "Splunk       18\n",
            "Adobe        18\n",
            "Name: count, dtype: int64\n"
          ]
        }
      ],
      "source": [
        "plt.figure(figsize=(12, 5))\n",
        "sns.countplot(data['company_name'], order=data['company_name'].value_counts().index[:10], palette='Set3')\n",
        "plt.title(\"Distribusi 10 Perusahaan Teratas\")\n",
        "plt.xlabel(\"Nama Perusahaan\")\n",
        "plt.ylabel(\"Jumlah\")\n",
        "plt.xticks(rotation=45)\n",
        "plt.tight_layout()\n",
        "plt.show()\n",
        "\n",
        "print(\"Jumlah unique company_name:\", data['company_name'].nunique())\n",
        "print(\"Perusahaan terbanyak:\\n\", data['company_name'].value_counts().head())\n"
      ]
    },
    {
      "cell_type": "code",
      "execution_count": 68,
      "metadata": {
        "colab": {
          "base_uri": "https://localhost:8080/",
          "height": 632
        },
        "id": "tV_0CbB2kLSt",
        "outputId": "24adc3c4-cc85-476a-9ec9-1333889c3465"
      },
      "outputs": [
        {
          "data": {
            "image/png": "[encoded data removed]",
            "text/plain": [
              "<Figure size 1200x500 with 1 Axes>"
            ]
          },
          "metadata": {},
          "output_type": "display_data"
        },
        {
          "name": "stdout",
          "output_type": "stream",
          "text": [
            "Jumlah unique lokasi: 178\n",
            "Lokasi terbanyak:\n",
            " company_address_locality\n",
            "San Francisco    148\n",
            "Los Angeles       93\n",
            "New York          54\n",
            "Menlo Park        43\n",
            "San Jose          38\n",
            "Name: count, dtype: int64\n"
          ]
        }
      ],
      "source": [
        "plt.figure(figsize=(12, 5))\n",
        "sns.countplot(data['company_address_locality'], order=data['company_address_locality'].value_counts().index[:10], palette='coolwarm')\n",
        "plt.title(\"Distribusi 10 Lokasi Teratas\")\n",
        "plt.xlabel(\"Lokasi\")\n",
        "plt.ylabel(\"Jumlah\")\n",
        "plt.xticks(rotation=45)\n",
        "plt.tight_layout()\n",
        "plt.show()\n",
        "\n",
        "print(\"Jumlah unique lokasi:\", data['company_address_locality'].nunique())\n",
        "print(\"Lokasi terbanyak:\\n\", data['company_address_locality'].value_counts().head())\n"
      ]
    },
    {
      "cell_type": "code",
      "execution_count": 69,
      "metadata": {
        "colab": {
          "base_uri": "https://localhost:8080/",
          "height": 598
        },
        "id": "6FaHwPEFkOvm",
        "outputId": "cf9ea58a-811f-45a7-b994-6a253b7181f9"
      },
      "outputs": [
        {
          "data": {
            "image/png": "[encoded data removed]",
            "text/plain": [
              "<Figure size 800x400 with 1 Axes>"
            ]
          },
          "metadata": {},
          "output_type": "display_data"
        },
        {
          "name": "stdout",
          "output_type": "stream",
          "text": [
            "Jumlah unique seniority level: 7\n",
            "Seniority level terbanyak:\n",
            " seniority_level\n",
            "Mid-Senior level    371\n",
            "Entry level         300\n",
            "Not Applicable      209\n",
            "Internship           70\n",
            "Associate            32\n",
            "Director              5\n",
            "Executive             1\n",
            "Name: count, dtype: int64\n"
          ]
        }
      ],
      "source": [
        "plt.figure(figsize=(8, 4))\n",
        "sns.countplot(data['seniority_level'], order=data['seniority_level'].value_counts().index, palette='Pastel1')\n",
        "plt.title(\"Distribusi Seniority Level\")\n",
        "plt.xlabel(\"Level Senioritas\")\n",
        "plt.ylabel(\"Jumlah\")\n",
        "plt.xticks(rotation=0)\n",
        "plt.tight_layout()\n",
        "plt.show()\n",
        "\n",
        "print(\"Jumlah unique seniority level:\", data['seniority_level'].nunique())\n",
        "print(\"Seniority level terbanyak:\\n\", data['seniority_level'].value_counts())\n"
      ]
    },
    {
      "cell_type": "markdown",
      "metadata": {
        "id": "cpgHfgnSK3ip"
      },
      "source": [
        "# **5. Data Preprocessing**"
      ]
    },
    {
      "cell_type": "markdown",
      "metadata": {
        "id": "COf8KUPXLg5r"
      },
      "source": [
        "Pada tahap ini, data preprocessing adalah langkah penting untuk memastikan kualitas data sebelum digunakan dalam model machine learning.\n",
        "\n",
        "Jika Anda menggunakan data teks, data mentah sering kali mengandung nilai kosong, duplikasi, atau rentang nilai yang tidak konsisten, yang dapat memengaruhi kinerja model. Oleh karena itu, proses ini bertujuan untuk membersihkan dan mempersiapkan data agar analisis berjalan optimal.\n",
        "\n",
        "Berikut adalah tahapan-tahapan yang bisa dilakukan, tetapi **tidak terbatas** pada:\n",
        "1. Menghapus atau Menangani Data Kosong (Missing Values)\n",
        "2. Menghapus Data Duplikat\n",
        "3. Normalisasi atau Standarisasi Fitur\n",
        "4. Deteksi dan Penanganan Outlier\n",
        "5. Encoding Data Kategorikal\n",
        "6. Binning (Pengelompokan Data)\n",
        "\n",
        "Cukup sesuaikan dengan karakteristik data yang kamu gunakan yah. Khususnya ketika kami menggunakan data tidak terstruktur."
      ]
    },
    {
      "cell_type": "code",
      "execution_count": 70,
      "metadata": {
        "id": "Og8pGV0-iDLz"
      },
      "outputs": [],
      "source": [
        "# Drop rows dengan missing pada kolom penting\n",
        "data = data.dropna(subset=['job_title', 'job_description_text'])\n",
        "\n",
        "# Isi missing values di kolom lain dengan 'unknown'\n",
        "fill_cols = ['company_address_region', 'company_address_locality',\n",
        "             'company_website', 'company_description', 'seniority_level']\n",
        "data[fill_cols] = data[fill_cols].fillna('unknown')\n"
      ]
    },
    {
      "cell_type": "code",
      "execution_count": 71,
      "metadata": {
        "colab": {
          "base_uri": "https://localhost:8080/"
        },
        "id": "CZkILBEYuEfu",
        "outputId": "80b5efaf-efe2-4e6c-8b63-09205b8ec31a"
      },
      "outputs": [
        {
          "name": "stderr",
          "output_type": "stream",
          "text": [
            "[nltk_data] Downloading package punkt_tab to\n",
            "[nltk_data]     C:\\Users\\krisn\\AppData\\Roaming\\nltk_data...\n",
            "[nltk_data]   Package punkt_tab is already up-to-date!\n"
          ]
        }
      ],
      "source": [
        "from nltk.corpus import stopwords\n",
        "from nltk.tokenize import word_tokenize\n",
        "import nltk\n",
        "\n",
        "nltk.download('punkt_tab') # Download the specific resource needed\n",
        "\n",
        "stop_words = set(stopwords.words('english'))\n",
        "\n",
        "def clean_text(text):\n",
        "    if pd.isnull(text):\n",
        "        return \"\"\n",
        "    text = text.lower()\n",
        "    text = re.sub(r'\\d+', '', text)  # hapus angka\n",
        "    text = text.translate(str.maketrans('', '', string.punctuation))  # hapus tanda baca\n",
        "    tokens = word_tokenize(text)\n",
        "    tokens = [word for word in tokens if word not in stop_words]\n",
        "    return ' '.join(tokens)\n",
        "\n",
        "# Terapkan pada kolom penting\n",
        "data['job_title_clean'] = data['job_title'].apply(clean_text)\n",
        "data['job_description_clean'] = data['job_description_text'].apply(clean_text)\n",
        "\n",
        "# Jika ada kolom 'skills', bisa tambahkan:\n",
        "if 'skills' in data.columns:\n",
        "    data['skills_clean'] = data['skills'].fillna('').apply(clean_text)"
      ]
    },
    {
      "cell_type": "code",
      "execution_count": 72,
      "metadata": {
        "id": "HoddRfamuQn-"
      },
      "outputs": [],
      "source": [
        "def combine_features(row):\n",
        "    return f\"{row['job_title_clean']} {row['job_description_clean']} {row.get('skills_clean', '')}\"\n",
        "\n",
        "data['combined_text'] = data.apply(combine_features, axis=1)\n"
      ]
    },
    {
      "cell_type": "code",
      "execution_count": 73,
      "metadata": {
        "colab": {
          "base_uri": "https://localhost:8080/",
          "height": 206
        },
        "id": "jet9uz6VuWof",
        "outputId": "74c1c34a-fa36-4393-992c-8fb00e3e7615"
      },
      "outputs": [
        {
          "data": {
            "text/html": [
              "<div>\n",
              "<style scoped>\n",
              "    .dataframe tbody tr th:only-of-type {\n",
              "        vertical-align: middle;\n",
              "    }\n",
              "\n",
              "    .dataframe tbody tr th {\n",
              "        vertical-align: top;\n",
              "    }\n",
              "\n",
              "    .dataframe thead th {\n",
              "        text-align: right;\n",
              "    }\n",
              "</style>\n",
              "<table border=\"1\" class=\"dataframe\">\n",
              "  <thead>\n",
              "    <tr style=\"text-align: right;\">\n",
              "      <th></th>\n",
              "      <th>job_title</th>\n",
              "      <th>job_title_clean</th>\n",
              "      <th>combined_text</th>\n",
              "    </tr>\n",
              "  </thead>\n",
              "  <tbody>\n",
              "    <tr>\n",
              "      <th>0</th>\n",
              "      <td>Internship - Machine Learning Engineer &amp; Data ...</td>\n",
              "      <td>internship machine learning engineer data science</td>\n",
              "      <td>internship machine learning engineer data scie...</td>\n",
              "    </tr>\n",
              "    <tr>\n",
              "      <th>1</th>\n",
              "      <td>Machine Learning Engineer</td>\n",
              "      <td>machine learning engineer</td>\n",
              "      <td>machine learning engineer company descriptiont...</td>\n",
              "    </tr>\n",
              "    <tr>\n",
              "      <th>2</th>\n",
              "      <td>Machine Learning Engineer</td>\n",
              "      <td>machine learning engineer</td>\n",
              "      <td>machine learning engineer companychanging worl...</td>\n",
              "    </tr>\n",
              "    <tr>\n",
              "      <th>3</th>\n",
              "      <td>Machine Learning Engineer, Training</td>\n",
              "      <td>machine learning engineer training</td>\n",
              "      <td>machine learning engineer training waymo auton...</td>\n",
              "    </tr>\n",
              "    <tr>\n",
              "      <th>4</th>\n",
              "      <td>Machine Learning Engineer</td>\n",
              "      <td>machine learning engineer</td>\n",
              "      <td>machine learning engineer job title machine le...</td>\n",
              "    </tr>\n",
              "  </tbody>\n",
              "</table>\n",
              "</div>"
            ],
            "text/plain": [
              "                                           job_title  \\\n",
              "0  Internship - Machine Learning Engineer & Data ...   \n",
              "1                          Machine Learning Engineer   \n",
              "2                          Machine Learning Engineer   \n",
              "3                Machine Learning Engineer, Training   \n",
              "4                          Machine Learning Engineer   \n",
              "\n",
              "                                     job_title_clean  \\\n",
              "0  internship machine learning engineer data science   \n",
              "1                          machine learning engineer   \n",
              "2                          machine learning engineer   \n",
              "3                 machine learning engineer training   \n",
              "4                          machine learning engineer   \n",
              "\n",
              "                                       combined_text  \n",
              "0  internship machine learning engineer data scie...  \n",
              "1  machine learning engineer company descriptiont...  \n",
              "2  machine learning engineer companychanging worl...  \n",
              "3  machine learning engineer training waymo auton...  \n",
              "4  machine learning engineer job title machine le...  "
            ]
          },
          "execution_count": 73,
          "metadata": {},
          "output_type": "execute_result"
        }
      ],
      "source": [
        "data[['job_title', 'job_title_clean', 'combined_text']].head()\n"
      ]
    },
    {
      "cell_type": "markdown",
      "metadata": {
        "id": "BwBmPcU0uaHX"
      },
      "source": [
        "## Modeling"
      ]
    },
    {
      "cell_type": "code",
      "execution_count": 74,
      "metadata": {
        "colab": {
          "base_uri": "https://localhost:8080/"
        },
        "id": "34lCSg0Eub0_",
        "outputId": "f9fe9c24-de3f-4ed2-e232-20a970520bcb"
      },
      "outputs": [
        {
          "name": "stdout",
          "output_type": "stream",
          "text": [
            "Shape TF-IDF matrix: (996, 5000)\n"
          ]
        }
      ],
      "source": [
        "from sklearn.feature_extraction.text import TfidfVectorizer\n",
        "\n",
        "# Buat objek vectorizer\n",
        "tfidf = TfidfVectorizer(stop_words='english', max_features=5000)\n",
        "\n",
        "# Fit dan transform teks\n",
        "tfidf_matrix = tfidf.fit_transform(data['combined_text'])\n",
        "\n",
        "print(\"Shape TF-IDF matrix:\", tfidf_matrix.shape)\n"
      ]
    },
    {
      "cell_type": "code",
      "execution_count": 75,
      "metadata": {
        "id": "sdNDmK1-utJu"
      },
      "outputs": [],
      "source": [
        "from sklearn.metrics.pairwise import cosine_similarity\n",
        "\n",
        "# Hitung kemiripan antar dokumen\n",
        "cosine_sim = cosine_similarity(tfidf_matrix, tfidf_matrix)\n"
      ]
    },
    {
      "cell_type": "code",
      "execution_count": 76,
      "metadata": {
        "id": "cYDrlbORuvkf"
      },
      "outputs": [],
      "source": [
        "# Reset index agar mapping bisa dilakukan dengan index\n",
        "data = data.reset_index(drop=True)\n",
        "\n",
        "# Fungsi rekomendasi berdasarkan judul\n",
        "def recommend_jobs(job_title, top_n=5):\n",
        "    # Cari indeks berdasarkan job title\n",
        "    indices = data[data['job_title'].str.lower() == job_title.lower()].index\n",
        "\n",
        "    if len(indices) == 0:\n",
        "        return f\"Tidak ditemukan job title: {job_title}\"\n",
        "\n",
        "    idx = indices[0]\n",
        "\n",
        "    # Ambil skor similarity\n",
        "    sim_scores = list(enumerate(cosine_sim[idx]))\n",
        "\n",
        "    # Urutkan berdasarkan skor tertinggi (kecuali diri sendiri)\n",
        "    sim_scores = sorted(sim_scores, key=lambda x: x[1], reverse=True)[1:top_n+1]\n",
        "\n",
        "    # Ambil indeks hasil rekomendasi\n",
        "    job_indices = [i[0] for i in sim_scores]\n",
        "\n",
        "    return data[['job_title', 'company_name', 'company_address_locality']].iloc[job_indices]\n"
      ]
    },
    {
      "cell_type": "code",
      "execution_count": 77,
      "metadata": {
        "colab": {
          "base_uri": "https://localhost:8080/",
          "height": 206
        },
        "id": "FTlTZEi2uyG_",
        "outputId": "e61209ad-1c12-42a2-a00f-d685b9d6f060"
      },
      "outputs": [
        {
          "data": {
            "text/html": [
              "<div>\n",
              "<style scoped>\n",
              "    .dataframe tbody tr th:only-of-type {\n",
              "        vertical-align: middle;\n",
              "    }\n",
              "\n",
              "    .dataframe tbody tr th {\n",
              "        vertical-align: top;\n",
              "    }\n",
              "\n",
              "    .dataframe thead th {\n",
              "        text-align: right;\n",
              "    }\n",
              "</style>\n",
              "<table border=\"1\" class=\"dataframe\">\n",
              "  <thead>\n",
              "    <tr style=\"text-align: right;\">\n",
              "      <th></th>\n",
              "      <th>job_title</th>\n",
              "      <th>company_name</th>\n",
              "      <th>company_address_locality</th>\n",
              "    </tr>\n",
              "  </thead>\n",
              "  <tbody>\n",
              "    <tr>\n",
              "      <th>706</th>\n",
              "      <td>Machine Learning / ETL Engineer</td>\n",
              "      <td>Tata Consultancy Services</td>\n",
              "      <td>Mumbai</td>\n",
              "    </tr>\n",
              "    <tr>\n",
              "      <th>948</th>\n",
              "      <td>Machine Learning - ETL Engineer</td>\n",
              "      <td>Tata Consultancy Services</td>\n",
              "      <td>Mumbai</td>\n",
              "    </tr>\n",
              "    <tr>\n",
              "      <th>551</th>\n",
              "      <td>Machine Learning Engineer</td>\n",
              "      <td>CVS Health</td>\n",
              "      <td>Woonsocket</td>\n",
              "    </tr>\n",
              "    <tr>\n",
              "      <th>915</th>\n",
              "      <td>Senior Machine Learning Engineer</td>\n",
              "      <td>GoFundMe</td>\n",
              "      <td>Redwood City</td>\n",
              "    </tr>\n",
              "    <tr>\n",
              "      <th>448</th>\n",
              "      <td>AI/ML Data Engineer</td>\n",
              "      <td>BICP</td>\n",
              "      <td>San Diego</td>\n",
              "    </tr>\n",
              "  </tbody>\n",
              "</table>\n",
              "</div>"
            ],
            "text/plain": [
              "                            job_title               company_name  \\\n",
              "706   Machine Learning / ETL Engineer  Tata Consultancy Services   \n",
              "948   Machine Learning - ETL Engineer  Tata Consultancy Services   \n",
              "551         Machine Learning Engineer                 CVS Health   \n",
              "915  Senior Machine Learning Engineer                   GoFundMe   \n",
              "448               AI/ML Data Engineer                       BICP   \n",
              "\n",
              "    company_address_locality  \n",
              "706                   Mumbai  \n",
              "948                   Mumbai  \n",
              "551               Woonsocket  \n",
              "915             Redwood City  \n",
              "448                San Diego  "
            ]
          },
          "execution_count": 77,
          "metadata": {},
          "output_type": "execute_result"
        }
      ],
      "source": [
        "recommend_jobs(\"Data Engineer\")\n"
      ]
    },
    {
      "cell_type": "markdown",
      "metadata": {
        "id": "SGw5miOQva2n"
      },
      "source": [
        "## Evaluation"
      ]
    },
    {
      "cell_type": "code",
      "execution_count": 78,
      "metadata": {
        "colab": {
          "base_uri": "https://localhost:8080/"
        },
        "id": "f7qfes5avGc3",
        "outputId": "9cf47f71-09e8-42d2-eba9-e8d3d25c74f2"
      },
      "outputs": [
        {
          "name": "stdout",
          "output_type": "stream",
          "text": [
            "Hasil Evaluasi:\n",
            "Precision@5: 1.0000\n",
            "Recall@5: 0.0077\n",
            "F1-score@5: 0.0153\n"
          ]
        }
      ],
      "source": [
        "\"\"\"## Evaluation\"\"\"\n",
        "\n",
        "from sklearn.metrics import precision_score, recall_score, f1_score\n",
        "\n",
        "# Fungsi untuk menentukan relevansi berdasarkan job_title\n",
        "def is_relevant(actual_title, recommended_title):\n",
        "    # Sederhana: anggap relevan jika kata kunci utama sama\n",
        "    actual_words = set(actual_title.lower().split())\n",
        "    recommended_words = set(recommended_title.lower().split())\n",
        "    common_words = actual_words.intersection(recommended_words)\n",
        "    # Anggap relevan jika ada setidaknya satu kata kunci utama yang sama\n",
        "    return len(common_words) > 0\n",
        "\n",
        "# Fungsi untuk evaluasi rekomendasi\n",
        "def evaluate_recommendations(data, cosine_sim, top_n=5, sample_size=100):\n",
        "    precision_scores = []\n",
        "    recall_scores = []\n",
        "    f1_scores = []\n",
        "\n",
        "    # Ambil sampel acak untuk evaluasi\n",
        "    sample_indices = np.random.choice(data.index, size=min(sample_size, len(data)), replace=False)\n",
        "\n",
        "    for idx in sample_indices:\n",
        "        actual_title = data.iloc[idx]['job_title']\n",
        "\n",
        "        # Ambil top-N rekomendasi\n",
        "        sim_scores = list(enumerate(cosine_sim[idx]))\n",
        "        sim_scores = sorted(sim_scores, key=lambda x: x[1], reverse=True)[1:top_n+1]\n",
        "        recommended_indices = [i[0] for i in sim_scores]\n",
        "        recommended_titles = data.iloc[recommended_indices]['job_title'].values\n",
        "\n",
        "        # Buat label relevansi\n",
        "        y_true = [1] * top_n  # Asumsi awal semua relevan (akan diperbarui)\n",
        "        y_pred = [1 if is_relevant(actual_title, rec_title) else 0 for rec_title in recommended_titles]\n",
        "\n",
        "        # Ground truth: cari semua pekerjaan yang relevan di dataset\n",
        "        relevant_jobs = data[data['job_title'].apply(lambda x: is_relevant(actual_title, x))].index\n",
        "        relevant_count = len(relevant_jobs) - 1  # Kurangi 1 karena tidak termasuk diri sendiri\n",
        "\n",
        "        if relevant_count == 0:\n",
        "            continue  # Skip jika tidak ada pekerjaan relevan\n",
        "\n",
        "        # Hitung precision, recall, f1\n",
        "        precision = precision_score(y_true, y_pred, zero_division=0)\n",
        "        recall = sum(y_pred) / relevant_count if relevant_count > 0 else 0\n",
        "        f1 = 2 * (precision * recall) / (precision + recall) if (precision + recall) > 0 else 0\n",
        "\n",
        "        precision_scores.append(precision)\n",
        "        recall_scores.append(recall)\n",
        "        f1_scores.append(f1)\n",
        "\n",
        "    # Rata-rata metrik\n",
        "    avg_precision = np.mean(precision_scores) if precision_scores else 0\n",
        "    avg_recall = np.mean(recall_scores) if recall_scores else 0\n",
        "    avg_f1 = np.mean(f1_scores) if f1_scores else 0\n",
        "\n",
        "    return {\n",
        "        'Precision@{}'.format(top_n): avg_precision,\n",
        "        'Recall@{}'.format(top_n): avg_recall,\n",
        "        'F1-score@{}'.format(top_n): avg_f1\n",
        "    }\n",
        "\n",
        "# Jalankan evaluasi\n",
        "evaluation_results = evaluate_recommendations(data, cosine_sim, top_n=5, sample_size=100)\n",
        "print(\"Hasil Evaluasi:\")\n",
        "for metric, value in evaluation_results.items():\n",
        "    print(f\"{metric}: {value:.4f}\")"
      ]
    },
    {
      "cell_type": "markdown",
      "metadata": {
        "id": "UHwElUEZw7Io"
      },
      "source": [
        "## Inference"
      ]
    },
    {
      "cell_type": "code",
      "execution_count": 79,
      "metadata": {
        "colab": {
          "base_uri": "https://localhost:8080/"
        },
        "id": "GGShQmJowtMg",
        "outputId": "8ffd1445-bb80-4286-c5ef-897caa57e9d3"
      },
      "outputs": [
        {
          "name": "stdout",
          "output_type": "stream",
          "text": [
            "Rekomendasi Pekerjaan berdasarkan input:\n",
            "                     job_title              company_name  \\\n",
            "389    Data Scientist (Python)               LogicMatrix   \n",
            "414    Data Scientist (Python)               LogicMatrix   \n",
            "598  Machine Learning Engineer  First Soft Solutions LLC   \n",
            "685     LeadGen Data Scientist            Symple Lending   \n",
            "527  Machine Learning Engineer  First Soft Solutions LLC   \n",
            "\n",
            "    company_address_locality  similarity_score  \n",
            "389                  unknown          0.527848  \n",
            "414                  unknown          0.527848  \n",
            "598        Monmouth Junction          0.288462  \n",
            "685                   Irvine          0.277843  \n",
            "527        Monmouth Junction          0.277532  \n",
            "\n",
            "Rekomendasi Pekerjaan berdasarkan input lain:\n",
            "                     job_title                             company_name  \\\n",
            "781  Machine Learning Engineer                                  Harnham   \n",
            "104  Machine Learning Engineer                                    Hedra   \n",
            "680    Cloud Software Engineer  General Dynamics Information Technology   \n",
            "691  Machine Learning Engineer                Mentor Talent Acquisition   \n",
            "276  Machine Learning Engineer                            Contextual AI   \n",
            "\n",
            "    company_address_locality  similarity_score  \n",
            "781                Wimbledon          0.210059  \n",
            "104                  unknown          0.182680  \n",
            "680             Falls Church          0.177154  \n",
            "691                   Dublin          0.138804  \n",
            "276            Mountain View          0.137434  \n"
          ]
        }
      ],
      "source": [
        "\"\"\"## Inference\"\"\"\n",
        "\n",
        "# Fungsi untuk inference berdasarkan input pengguna\n",
        "def recommend_jobs_from_input(user_input, tfidf_vectorizer, tfidf_matrix, data, top_n=5):\n",
        "    # Bersihkan input pengguna\n",
        "    cleaned_input = clean_text(user_input)\n",
        "\n",
        "    # Transform input ke vektor TF-IDF\n",
        "    input_vector = tfidf_vectorizer.transform([cleaned_input])\n",
        "\n",
        "    # Hitung cosine similarity antara input dan semua dokumen\n",
        "    cosine_sim_input = cosine_similarity(input_vector, tfidf_matrix)\n",
        "\n",
        "    # Ambil top-N indeks dengan skor tertinggi\n",
        "    sim_scores = list(enumerate(cosine_sim_input[0]))\n",
        "    sim_scores = sorted(sim_scores, key=lambda x: x[1], reverse=True)[:top_n]\n",
        "    job_indices = [i[0] for i in sim_scores]\n",
        "    similarity_scores = [i[1] for i in sim_scores]\n",
        "\n",
        "    # Buat DataFrame hasil rekomendasi\n",
        "    recommendations = data[['job_title', 'company_name', 'company_address_locality']].iloc[job_indices].copy()\n",
        "    recommendations['similarity_score'] = similarity_scores\n",
        "\n",
        "    return recommendations\n",
        "\n",
        "# Contoh penggunaan inference\n",
        "# Input bisa berupa job title atau deskripsi pekerjaan\n",
        "user_input = \"Data Scientist with expertise in machine learning and Python\"\n",
        "recommendations = recommend_jobs_from_input(user_input, tfidf, tfidf_matrix, data, top_n=5)\n",
        "\n",
        "print(\"Rekomendasi Pekerjaan berdasarkan input:\")\n",
        "print(recommendations)\n",
        "\n",
        "# Contoh input lain\n",
        "user_input_2 = \"Software Engineer specializing in cloud computing\"\n",
        "recommendations_2 = recommend_jobs_from_input(user_input_2, tfidf, tfidf_matrix, data, top_n=5)\n",
        "\n",
        "print(\"\\nRekomendasi Pekerjaan berdasarkan input lain:\")\n",
        "print(recommendations_2)"
      ]
    }
  ],
  "metadata": {
    "colab": {
      "provenance": []
    },
    "kernelspec": {
      "display_name": ".venv",
      "language": "python",
      "name": "python3"
    },
    "language_info": {
      "codemirror_mode": {
        "name": "ipython",
        "version": 3
      },
      "file_extension": ".py",
      "mimetype": "text/x-python",
      "name": "python",
      "nbconvert_exporter": "python",
      "pygments_lexer": "ipython3",
      "version": "3.13.3"
    }
  },
  "nbformat": 4,
  "nbformat_minor": 0
}
